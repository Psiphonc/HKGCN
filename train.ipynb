{
 "cells": [
  {
   "cell_type": "code",
   "execution_count": 34,
   "metadata": {},
   "outputs": [
    {
     "name": "stdout",
     "output_type": "stream",
     "text": [
      "(512, 1, 4)\n",
      "(128, 16)\n",
      "(128, 16, 4)\n",
      "(128, 64)\n"
     ]
    }
   ],
   "source": [
    "import tensorflow as tf \n",
    "import numpy as np\n",
    "\n",
    "with open('adj_entity.npy','rb') as f:\n",
    "  adj_entity = np.load(f)\n",
    "\n",
    "with open('train_data.npy','rb') as f:\n",
    "  train_data = np.load(f)\n",
    "\n",
    "item_indicies = tf.constant(train_data[0:512,1])\n",
    "seeds = tf.expand_dims(item_indicies, axis=1) # item_indicies:[n] -> seeds:[n,1] \n",
    "\n",
    "entities = [seeds] \n",
    "\n",
    "gathered_adj_entity = tf.gather(adj_entity, entities[0])\n",
    "print(gathered_adj_entity.shape)\n",
    "neighbor_entities = tf.reshape(gathered_adj_entity, [128, -1])\n",
    "print(neighbor_entities.shape)\n",
    "entities.append(neighbor_entities)\n",
    "\n",
    "gathered_adj_entity = tf.gather(adj_entity, entities[1])\n",
    "print(gathered_adj_entity.shape)\n",
    "neighbor_entities = tf.reshape(gathered_adj_entity, [128, -1])\n",
    "print(neighbor_entities.shape)\n",
    "entities.append(neighbor_entities)\n",
    "# with tf.Session() as sess:\n",
    "#   e = sess.run(entities)\n",
    "#   print(e)"
   ]
  }
 ],
 "metadata": {
  "interpreter": {
   "hash": "e0293982cc521ba79463c97bcbf6060ec5665b6d4557db7071378f3862020d1c"
  },
  "kernelspec": {
   "display_name": "Python 3.5.6 64-bit ('hkgcn': conda)",
   "name": "python3"
  },
  "language_info": {
   "codemirror_mode": {
    "name": "ipython",
    "version": 3
   },
   "file_extension": ".py",
   "mimetype": "text/x-python",
   "name": "python",
   "nbconvert_exporter": "python",
   "pygments_lexer": "ipython3",
   "version": "3.5.6"
  },
  "orig_nbformat": 4
 },
 "nbformat": 4,
 "nbformat_minor": 2
}
