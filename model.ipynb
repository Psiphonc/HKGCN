{
 "cells": [
  {
   "cell_type": "markdown",
   "metadata": {},
   "source": [
    "| 名称      | 含义 |\n",
    "| ----------- | ----------- |\n",
    "| n_user      | 用户数       |\n",
    "| n_item   | 交互项目数        |\n",
    "| train_data   | 训练集        |\n",
    "| eval_data   | 验证集        |\n",
    "| test_data   | 测试集        |\n",
    "| adj_item   | 行:用户 列:用户产生的交互编号 每个用户采样20个交互        |\n",
    "| n_classes   | 待分类的结果数量 例如性别就是男、女2类        |\n",
    "| ratings_np   | 从ratings文件中读取的原始数据 numpy数组 每个用户一行 列分别是(用户id, 交互id, 性别)        |\n",
    "| adj_user   | adj_user[i][j]: 与用户i产生过的某个用户id (没有顺序, 是随机采样的) |\n",
    "| n_entity   | 知识库中实体的个数(头尾做union)        |\n",
    "| n_relation   | 知识库中关系的个数(头尾做union)        |\n",
    "| adj_entity   | adj_entity[i]: 与实体i有关系的实体集合(采样)        |\n",
    "| adj_relation   | adj_relation[i]: 与实体i有关系的关系(采样)        |"
   ]
  },
  {
   "cell_type": "markdown",
   "metadata": {},
   "source": [
    "# 数据预处理"
   ]
  },
  {
   "cell_type": "code",
   "execution_count": 1,
   "metadata": {},
   "outputs": [],
   "source": [
    "import tensorflow as tf\n",
    "import numpy as np"
   ]
  },
  {
   "cell_type": "code",
   "execution_count": 2,
   "metadata": {},
   "outputs": [],
   "source": [
    "# 加载并预处理数据\n",
    "def read_file(filename):\n",
    "  with open('{}.npy'.format(filename), 'rb') as f:\n",
    "    ret = np.load(f)\n",
    "  return ret\n",
    "\n",
    "n_user, n_item, n_entity, n_relation, n_classes = read_file('n_file')     \n",
    "train_data = read_file('train_data')\n",
    "eval_data = read_file('eval_data')\n",
    "test_data = read_file('test_data')    \n",
    "adj_relationadj_entity = read_file('adj_entity') \n",
    "adj_relation = read_file('adj_relation')\n",
    "adj_item = read_file('adj_item')   \n",
    "ratings_np = read_file('ratings_np') \n",
    "adj_user = read_file('adj_user')   "
   ]
  },
  {
   "cell_type": "code",
   "execution_count": 9,
   "metadata": {},
   "outputs": [],
   "source": [
    "# mock命令行参数\n",
    "arg = {}\n",
    "arg['ratio'] = 1\n",
    "arg['n_interact'] = 20\n",
    "arg['n_neighbors'] = 20\n",
    "arg['dataset'] = 'movie'\n",
    "arg['mission'] = 'gender'\n",
    "arg['neighbor_sample_size'] = 4\n",
    "arg['dim'] = 32\n",
    "arg['lr'] = 0.02\n",
    "arg['l2_weight'] = 0.001\n",
    "arg['n_iter'] = 2\n",
    "arg['batch_size'] = 128"
   ]
  },
  {
   "cell_type": "code",
   "execution_count": 4,
   "metadata": {},
   "outputs": [],
   "source": [
    "# 构建初始值\n",
    "user_indicies = tf.placeholder(dtype=tf.int64, shape=[None], name='user_indicies')\n",
    "item_indicies = tf.placeholder(dtype=tf.int64, shape=[None], name='item_indicies')\n",
    "labels = tf.placeholder(dtype=tf.int64, shape=[None], name='labels')"
   ]
  },
  {
   "cell_type": "code",
   "execution_count": 5,
   "metadata": {},
   "outputs": [],
   "source": [
    "def get_initializer():\n",
    "  # 这个初始化器是用来使得每一层输出的方差应该尽量相等。\n",
    "  return tf.contrib.layers.xavier_initializer()"
   ]
  },
  {
   "cell_type": "markdown",
   "metadata": {},
   "source": [
    "# 构建模型"
   ]
  },
  {
   "cell_type": "markdown",
   "metadata": {},
   "source": [
    "## 创建embedding矩阵作为用户特征输入 并构建训练参数矩阵"
   ]
  },
  {
   "cell_type": "code",
   "execution_count": 6,
   "metadata": {},
   "outputs": [],
   "source": [
    "# 构建模型\n",
    "dim = arg['dim']\n",
    "# 用户特征embedding矩阵\n",
    "user_emb_matrix = tf.get_variable(\n",
    "            shape=[n_user, dim], inializer=get_initializer(), name='user_emb_matrix')\n",
    "# 实体特征embedding矩阵\n",
    "entity_emb_matrix = tf.get_variable(\n",
    "            shape=[n_entity, dim], initializer=get_initializer(), name='entity_emb_matrix')\n",
    "# 关系embedding矩阵\n",
    "relation_emb_matrix = tf.get_variable(\n",
    "    shape=[n_relation, dim], initializer=get_initializer(), name='relation_emb_matrix')\n",
    "# 输出层参数w\n",
    "output_weights = tf.get_variable(\n",
    "    shape=[dim, n_classes], initializer=get_initializer(),name='output_weights1')\n",
    "# 输出层偏置\n",
    "output_bias = tf.get_variable(\n",
    "    shape=[n_classes], initializer=tf.zeros_initializer(), name='output_bias1')"
   ]
  },
  {
   "cell_type": "markdown",
   "metadata": {},
   "source": [
    "## 获取近邻实体与关系"
   ]
  },
  {
   "cell_type": "code",
   "execution_count": 7,
   "metadata": {},
   "outputs": [],
   "source": [
    "seeds = tf.expand_dims(item_indicies, axis=1) # item_indicies:[n] -> seeds:[n,1] \n",
    "seeds.shape # 从行向量变成列向量了"
   ]
  },
  {
   "cell_type": "markdown",
   "metadata": {},
   "source": [
    "### 收集算法\n",
    "1. 对于用户u的交互实体集合$N_i(u)$中的每一个实体$e_i^0$,收集其近邻实体集合$N_i(e_i^0)$, 集合中的每一个实体直接与实体$e_i^0$相连。 则有关系r_{e_i^0,e_j^1}表示实体$e_i^0$和实体$e_j^1$之间的关系,其中$e^1_j\\in N_i(e_i^0)$。 \n",
    "2. 对于每一个$N_i(e_i^0)$中的实体$e_j^1$,进行近邻实体获取,得到$e_j^1$的近邻实体集合$N_i(e_j^1)$。 \n",
    "3. 对$e_j^1$的近邻实体集合$N_i(e_j^1)$中的实体$e_k^2$,进行近邻实体获取,直到递归次数达到H次,递归收集过程终止。 \n",
    "\n",
    "\n",
    "![迭代搜集近邻实体算法](assets/alg3.1_get_neighbor_entities.png)"
   ]
  },
  {
   "cell_type": "code",
   "execution_count": 17,
   "metadata": {},
   "outputs": [
    {
     "data": {
      "text/plain": [
       "(37473, 4)"
      ]
     },
     "execution_count": 17,
     "metadata": {},
     "output_type": "execute_result"
    }
   ],
   "source": [
    "adj_entity.shape"
   ]
  },
  {
   "cell_type": "code",
   "execution_count": 20,
   "metadata": {},
   "outputs": [
    {
     "name": "stdout",
     "output_type": "stream",
     "text": [
      "(?, 1, 4)\n",
      "(128, ?, 4)\n"
     ]
    }
   ],
   "source": [
    "entities = [seeds] # entities:[1,n,1]\n",
    "relations = []\n",
    "n_iter = arg['n_iter'] # 迭代次数是超参\n",
    "batch_size = arg['batch_size']\n",
    "for i in range(n_iter):\n",
    "    # tf.gather(a,b): 在tensor a中获取下标为 b(可以是列表)的tensor\n",
    "    # tf.gather(adj_entity, entities[i]) -> [n,1,4]\n",
    "    neighbor_entities = tf.reshape(tf.gather(adj_entity, entities[i]), [batch_size, -1])\n",
    "    neighbor_relations = tf.reshape(tf.gather(adj_relation, entities[i]), [batch_size, -1])\n",
    "    entities.append(neighbor_entities) # 每次迭代用上一次迭代结果的entities继续寻找邻居\n",
    "    relations.append(neighbor_relations)"
   ]
  },
  {
   "cell_type": "code",
   "execution_count": null,
   "metadata": {},
   "outputs": [],
   "source": [
    "users = tf.expand_dims(users, axis=1)\n",
    "# 获取user交互过的电影 n=10\n",
    "interact_item = tf.reshape(tf.gather(adj_item, users), [batch_size, -1])"
   ]
  },
  {
   "cell_type": "code",
   "execution_count": 12,
   "metadata": {},
   "outputs": [
    {
     "data": {
      "text/plain": [
       "[<tf.Tensor 'ExpandDims:0' shape=(?, 1) dtype=int64>,\n",
       " <tf.Tensor 'Reshape:0' shape=(128, ?) dtype=int64>,\n",
       " <tf.Tensor 'Reshape_2:0' shape=(128, ?) dtype=int64>]"
      ]
     },
     "execution_count": 12,
     "metadata": {},
     "output_type": "execute_result"
    }
   ],
   "source": [
    "user_embedding = tf.nn.embedding_lookup(user_emb_matrix, user_indicies)\n"
   ]
  }
 ],
 "metadata": {
  "interpreter": {
   "hash": "e0293982cc521ba79463c97bcbf6060ec5665b6d4557db7071378f3862020d1c"
  },
  "kernelspec": {
   "display_name": "Python 3.5.6 64-bit ('hkgcn': conda)",
   "name": "python3"
  },
  "language_info": {
   "codemirror_mode": {
    "name": "ipython",
    "version": 3
   },
   "file_extension": ".py",
   "mimetype": "text/x-python",
   "name": "python",
   "nbconvert_exporter": "python",
   "pygments_lexer": "ipython3",
   "version": "3.5.6"
  },
  "orig_nbformat": 4
 },
 "nbformat": 4,
 "nbformat_minor": 2
}
